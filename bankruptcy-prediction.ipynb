{
 "cells": [
  {
   "cell_type": "code",
   "execution_count": 1,
   "id": "fcf800a1",
   "metadata": {
    "_cell_guid": "b1076dfc-b9ad-4769-8c92-a6c4dae69d19",
    "_uuid": "8f2839f25d086af736a60e9eeb907d3b93b6e0e5",
    "execution": {
     "iopub.execute_input": "2022-12-01T05:01:36.197224Z",
     "iopub.status.busy": "2022-12-01T05:01:36.196754Z",
     "iopub.status.idle": "2022-12-01T05:01:37.903373Z",
     "shell.execute_reply": "2022-12-01T05:01:37.902051Z"
    },
    "papermill": {
     "duration": 1.719369,
     "end_time": "2022-12-01T05:01:37.906055",
     "exception": false,
     "start_time": "2022-12-01T05:01:36.186686",
     "status": "completed"
    },
    "tags": []
   },
   "outputs": [
    {
     "name": "stdout",
     "output_type": "stream",
     "text": [
      "/kaggle/input/company-bankruptcy-prediction/data.csv\n"
     ]
    }
   ],
   "source": [
    "# This Python 3 environment comes with many helpful analytics libraries installed\n",
    "# It is defined by the kaggle/python Docker image: https://github.com/kaggle/docker-python\n",
    "# For example, here's several helpful packages to load\n",
    "\n",
    "import numpy as np # linear algebra\n",
    "import pandas as pd # data processing, CSV file I/O (e.g. pd.read_csv)\n",
    "\n",
    "# Input data files are available in the read-only \"../input/\" directory\n",
    "# For example, running this (by clicking run or pressing Shift+Enter) will list all files under the input directory\n",
    "\n",
    "import pickle\n",
    "\n",
    "\n",
    "import pandas as pd\n",
    "\n",
    "from imblearn.over_sampling import RandomOverSampler\n",
    "\n",
    "from ipywidgets import interact\n",
    "from sklearn.ensemble import GradientBoostingClassifier\n",
    "from sklearn.impute import SimpleImputer\n",
    "from sklearn.metrics import (\n",
    "    ConfusionMatrixDisplay,\n",
    "    classification_report,\n",
    "    confusion_matrix,\n",
    ")\n",
    "from sklearn.model_selection import GridSearchCV, train_test_split\n",
    "from sklearn.pipeline import make_pipeline\n",
    "\n",
    "\n",
    "\n",
    "\n",
    "\n",
    "import os\n",
    "for dirname, _, filenames in os.walk('/kaggle/input'):\n",
    "    for filename in filenames:\n",
    "        print(os.path.join(dirname, filename))\n",
    "\n",
    "# You can write up to 20GB to the current directory (/kaggle/working/) that gets preserved as output when you create a version using \"Save & Run All\" \n",
    "# You can also write temporary files to /kaggle/temp/, but they won't be saved outside of the current session"
   ]
  },
  {
   "cell_type": "code",
   "execution_count": 2,
   "id": "b790fd4e",
   "metadata": {
    "execution": {
     "iopub.execute_input": "2022-12-01T05:01:37.921611Z",
     "iopub.status.busy": "2022-12-01T05:01:37.920960Z",
     "iopub.status.idle": "2022-12-01T05:01:38.250372Z",
     "shell.execute_reply": "2022-12-01T05:01:38.249332Z"
    },
    "papermill": {
     "duration": 0.340119,
     "end_time": "2022-12-01T05:01:38.253077",
     "exception": false,
     "start_time": "2022-12-01T05:01:37.912958",
     "status": "completed"
    },
    "tags": []
   },
   "outputs": [],
   "source": [
    "df =pd.read_csv(\"/kaggle/input/company-bankruptcy-prediction/data.csv\")"
   ]
  },
  {
   "cell_type": "code",
   "execution_count": 3,
   "id": "2c895c3c",
   "metadata": {
    "execution": {
     "iopub.execute_input": "2022-12-01T05:01:38.268168Z",
     "iopub.status.busy": "2022-12-01T05:01:38.267755Z",
     "iopub.status.idle": "2022-12-01T05:01:38.308001Z",
     "shell.execute_reply": "2022-12-01T05:01:38.306860Z"
    },
    "papermill": {
     "duration": 0.050763,
     "end_time": "2022-12-01T05:01:38.310490",
     "exception": false,
     "start_time": "2022-12-01T05:01:38.259727",
     "status": "completed"
    },
    "tags": []
   },
   "outputs": [
    {
     "data": {
      "text/html": [
       "<div>\n",
       "<style scoped>\n",
       "    .dataframe tbody tr th:only-of-type {\n",
       "        vertical-align: middle;\n",
       "    }\n",
       "\n",
       "    .dataframe tbody tr th {\n",
       "        vertical-align: top;\n",
       "    }\n",
       "\n",
       "    .dataframe thead th {\n",
       "        text-align: right;\n",
       "    }\n",
       "</style>\n",
       "<table border=\"1\" class=\"dataframe\">\n",
       "  <thead>\n",
       "    <tr style=\"text-align: right;\">\n",
       "      <th></th>\n",
       "      <th>Bankrupt?</th>\n",
       "      <th>ROA(C) before interest and depreciation before interest</th>\n",
       "      <th>ROA(A) before interest and % after tax</th>\n",
       "      <th>ROA(B) before interest and depreciation after tax</th>\n",
       "      <th>Operating Gross Margin</th>\n",
       "      <th>Realized Sales Gross Margin</th>\n",
       "      <th>Operating Profit Rate</th>\n",
       "      <th>Pre-tax net Interest Rate</th>\n",
       "      <th>After-tax net Interest Rate</th>\n",
       "      <th>Non-industry income and expenditure/revenue</th>\n",
       "      <th>...</th>\n",
       "      <th>Net Income to Total Assets</th>\n",
       "      <th>Total assets to GNP price</th>\n",
       "      <th>No-credit Interval</th>\n",
       "      <th>Gross Profit to Sales</th>\n",
       "      <th>Net Income to Stockholder's Equity</th>\n",
       "      <th>Liability to Equity</th>\n",
       "      <th>Degree of Financial Leverage (DFL)</th>\n",
       "      <th>Interest Coverage Ratio (Interest expense to EBIT)</th>\n",
       "      <th>Net Income Flag</th>\n",
       "      <th>Equity to Liability</th>\n",
       "    </tr>\n",
       "  </thead>\n",
       "  <tbody>\n",
       "    <tr>\n",
       "      <th>0</th>\n",
       "      <td>1</td>\n",
       "      <td>0.370594</td>\n",
       "      <td>0.424389</td>\n",
       "      <td>0.405750</td>\n",
       "      <td>0.601457</td>\n",
       "      <td>0.601457</td>\n",
       "      <td>0.998969</td>\n",
       "      <td>0.796887</td>\n",
       "      <td>0.808809</td>\n",
       "      <td>0.302646</td>\n",
       "      <td>...</td>\n",
       "      <td>0.716845</td>\n",
       "      <td>0.009219</td>\n",
       "      <td>0.622879</td>\n",
       "      <td>0.601453</td>\n",
       "      <td>0.827890</td>\n",
       "      <td>0.290202</td>\n",
       "      <td>0.026601</td>\n",
       "      <td>0.564050</td>\n",
       "      <td>1</td>\n",
       "      <td>0.016469</td>\n",
       "    </tr>\n",
       "    <tr>\n",
       "      <th>1</th>\n",
       "      <td>1</td>\n",
       "      <td>0.464291</td>\n",
       "      <td>0.538214</td>\n",
       "      <td>0.516730</td>\n",
       "      <td>0.610235</td>\n",
       "      <td>0.610235</td>\n",
       "      <td>0.998946</td>\n",
       "      <td>0.797380</td>\n",
       "      <td>0.809301</td>\n",
       "      <td>0.303556</td>\n",
       "      <td>...</td>\n",
       "      <td>0.795297</td>\n",
       "      <td>0.008323</td>\n",
       "      <td>0.623652</td>\n",
       "      <td>0.610237</td>\n",
       "      <td>0.839969</td>\n",
       "      <td>0.283846</td>\n",
       "      <td>0.264577</td>\n",
       "      <td>0.570175</td>\n",
       "      <td>1</td>\n",
       "      <td>0.020794</td>\n",
       "    </tr>\n",
       "    <tr>\n",
       "      <th>2</th>\n",
       "      <td>1</td>\n",
       "      <td>0.426071</td>\n",
       "      <td>0.499019</td>\n",
       "      <td>0.472295</td>\n",
       "      <td>0.601450</td>\n",
       "      <td>0.601364</td>\n",
       "      <td>0.998857</td>\n",
       "      <td>0.796403</td>\n",
       "      <td>0.808388</td>\n",
       "      <td>0.302035</td>\n",
       "      <td>...</td>\n",
       "      <td>0.774670</td>\n",
       "      <td>0.040003</td>\n",
       "      <td>0.623841</td>\n",
       "      <td>0.601449</td>\n",
       "      <td>0.836774</td>\n",
       "      <td>0.290189</td>\n",
       "      <td>0.026555</td>\n",
       "      <td>0.563706</td>\n",
       "      <td>1</td>\n",
       "      <td>0.016474</td>\n",
       "    </tr>\n",
       "    <tr>\n",
       "      <th>3</th>\n",
       "      <td>1</td>\n",
       "      <td>0.399844</td>\n",
       "      <td>0.451265</td>\n",
       "      <td>0.457733</td>\n",
       "      <td>0.583541</td>\n",
       "      <td>0.583541</td>\n",
       "      <td>0.998700</td>\n",
       "      <td>0.796967</td>\n",
       "      <td>0.808966</td>\n",
       "      <td>0.303350</td>\n",
       "      <td>...</td>\n",
       "      <td>0.739555</td>\n",
       "      <td>0.003252</td>\n",
       "      <td>0.622929</td>\n",
       "      <td>0.583538</td>\n",
       "      <td>0.834697</td>\n",
       "      <td>0.281721</td>\n",
       "      <td>0.026697</td>\n",
       "      <td>0.564663</td>\n",
       "      <td>1</td>\n",
       "      <td>0.023982</td>\n",
       "    </tr>\n",
       "    <tr>\n",
       "      <th>4</th>\n",
       "      <td>1</td>\n",
       "      <td>0.465022</td>\n",
       "      <td>0.538432</td>\n",
       "      <td>0.522298</td>\n",
       "      <td>0.598783</td>\n",
       "      <td>0.598783</td>\n",
       "      <td>0.998973</td>\n",
       "      <td>0.797366</td>\n",
       "      <td>0.809304</td>\n",
       "      <td>0.303475</td>\n",
       "      <td>...</td>\n",
       "      <td>0.795016</td>\n",
       "      <td>0.003878</td>\n",
       "      <td>0.623521</td>\n",
       "      <td>0.598782</td>\n",
       "      <td>0.839973</td>\n",
       "      <td>0.278514</td>\n",
       "      <td>0.024752</td>\n",
       "      <td>0.575617</td>\n",
       "      <td>1</td>\n",
       "      <td>0.035490</td>\n",
       "    </tr>\n",
       "  </tbody>\n",
       "</table>\n",
       "<p>5 rows × 96 columns</p>\n",
       "</div>"
      ],
      "text/plain": [
       "   Bankrupt?   ROA(C) before interest and depreciation before interest  \\\n",
       "0          1                                           0.370594          \n",
       "1          1                                           0.464291          \n",
       "2          1                                           0.426071          \n",
       "3          1                                           0.399844          \n",
       "4          1                                           0.465022          \n",
       "\n",
       "    ROA(A) before interest and % after tax  \\\n",
       "0                                 0.424389   \n",
       "1                                 0.538214   \n",
       "2                                 0.499019   \n",
       "3                                 0.451265   \n",
       "4                                 0.538432   \n",
       "\n",
       "    ROA(B) before interest and depreciation after tax  \\\n",
       "0                                           0.405750    \n",
       "1                                           0.516730    \n",
       "2                                           0.472295    \n",
       "3                                           0.457733    \n",
       "4                                           0.522298    \n",
       "\n",
       "    Operating Gross Margin   Realized Sales Gross Margin  \\\n",
       "0                 0.601457                      0.601457   \n",
       "1                 0.610235                      0.610235   \n",
       "2                 0.601450                      0.601364   \n",
       "3                 0.583541                      0.583541   \n",
       "4                 0.598783                      0.598783   \n",
       "\n",
       "    Operating Profit Rate   Pre-tax net Interest Rate  \\\n",
       "0                0.998969                    0.796887   \n",
       "1                0.998946                    0.797380   \n",
       "2                0.998857                    0.796403   \n",
       "3                0.998700                    0.796967   \n",
       "4                0.998973                    0.797366   \n",
       "\n",
       "    After-tax net Interest Rate   Non-industry income and expenditure/revenue  \\\n",
       "0                      0.808809                                      0.302646   \n",
       "1                      0.809301                                      0.303556   \n",
       "2                      0.808388                                      0.302035   \n",
       "3                      0.808966                                      0.303350   \n",
       "4                      0.809304                                      0.303475   \n",
       "\n",
       "   ...   Net Income to Total Assets   Total assets to GNP price  \\\n",
       "0  ...                     0.716845                    0.009219   \n",
       "1  ...                     0.795297                    0.008323   \n",
       "2  ...                     0.774670                    0.040003   \n",
       "3  ...                     0.739555                    0.003252   \n",
       "4  ...                     0.795016                    0.003878   \n",
       "\n",
       "    No-credit Interval   Gross Profit to Sales  \\\n",
       "0             0.622879                0.601453   \n",
       "1             0.623652                0.610237   \n",
       "2             0.623841                0.601449   \n",
       "3             0.622929                0.583538   \n",
       "4             0.623521                0.598782   \n",
       "\n",
       "    Net Income to Stockholder's Equity   Liability to Equity  \\\n",
       "0                             0.827890              0.290202   \n",
       "1                             0.839969              0.283846   \n",
       "2                             0.836774              0.290189   \n",
       "3                             0.834697              0.281721   \n",
       "4                             0.839973              0.278514   \n",
       "\n",
       "    Degree of Financial Leverage (DFL)  \\\n",
       "0                             0.026601   \n",
       "1                             0.264577   \n",
       "2                             0.026555   \n",
       "3                             0.026697   \n",
       "4                             0.024752   \n",
       "\n",
       "    Interest Coverage Ratio (Interest expense to EBIT)   Net Income Flag  \\\n",
       "0                                           0.564050                   1   \n",
       "1                                           0.570175                   1   \n",
       "2                                           0.563706                   1   \n",
       "3                                           0.564663                   1   \n",
       "4                                           0.575617                   1   \n",
       "\n",
       "    Equity to Liability  \n",
       "0              0.016469  \n",
       "1              0.020794  \n",
       "2              0.016474  \n",
       "3              0.023982  \n",
       "4              0.035490  \n",
       "\n",
       "[5 rows x 96 columns]"
      ]
     },
     "execution_count": 3,
     "metadata": {},
     "output_type": "execute_result"
    }
   ],
   "source": [
    "df.head()"
   ]
  },
  {
   "cell_type": "markdown",
   "id": "0cdf72a4",
   "metadata": {
    "papermill": {
     "duration": 0.006861,
     "end_time": "2022-12-01T05:01:38.324448",
     "exception": false,
     "start_time": "2022-12-01T05:01:38.317587",
     "status": "completed"
    },
    "tags": []
   },
   "source": [
    "Let us create Feature Matrix X and the Target y"
   ]
  },
  {
   "cell_type": "code",
   "execution_count": 4,
   "id": "6e8b1081",
   "metadata": {
    "execution": {
     "iopub.execute_input": "2022-12-01T05:01:38.340223Z",
     "iopub.status.busy": "2022-12-01T05:01:38.339799Z",
     "iopub.status.idle": "2022-12-01T05:01:38.355662Z",
     "shell.execute_reply": "2022-12-01T05:01:38.354499Z"
    },
    "papermill": {
     "duration": 0.026506,
     "end_time": "2022-12-01T05:01:38.357954",
     "exception": false,
     "start_time": "2022-12-01T05:01:38.331448",
     "status": "completed"
    },
    "tags": []
   },
   "outputs": [
    {
     "name": "stdout",
     "output_type": "stream",
     "text": [
      "(6819, 95)\n",
      "(6819,)\n"
     ]
    }
   ],
   "source": [
    "target =\"Bankrupt?\"\n",
    "X =df.drop(columns=target)\n",
    "y=df[target]\n",
    "print(X.shape)\n",
    "print(y.shape)"
   ]
  },
  {
   "cell_type": "code",
   "execution_count": 5,
   "id": "f422329c",
   "metadata": {
    "execution": {
     "iopub.execute_input": "2022-12-01T05:01:38.375159Z",
     "iopub.status.busy": "2022-12-01T05:01:38.374776Z",
     "iopub.status.idle": "2022-12-01T05:01:38.392755Z",
     "shell.execute_reply": "2022-12-01T05:01:38.391176Z"
    },
    "papermill": {
     "duration": 0.030332,
     "end_time": "2022-12-01T05:01:38.395360",
     "exception": false,
     "start_time": "2022-12-01T05:01:38.365028",
     "status": "completed"
    },
    "tags": []
   },
   "outputs": [
    {
     "name": "stdout",
     "output_type": "stream",
     "text": [
      "X_train Shape: (5455, 95)\n",
      "X_test Shape: (1364, 95)\n",
      "y_train Shape: (5455,)\n",
      "y_test Shape: (1364,)\n"
     ]
    }
   ],
   "source": [
    "X_train,X_test,y_train,y_test=train_test_split(X,y,test_size=0.2,random_state=42)\n",
    "print(\"X_train Shape:\",X_train.shape)\n",
    "print(\"X_test Shape:\",X_test.shape)\n",
    "print(\"y_train Shape:\",y_train.shape)\n",
    "print(\"y_test Shape:\",y_test.shape)"
   ]
  },
  {
   "cell_type": "code",
   "execution_count": 6,
   "id": "f3751bd7",
   "metadata": {
    "execution": {
     "iopub.execute_input": "2022-12-01T05:01:38.411135Z",
     "iopub.status.busy": "2022-12-01T05:01:38.410761Z",
     "iopub.status.idle": "2022-12-01T05:01:38.479862Z",
     "shell.execute_reply": "2022-12-01T05:01:38.478703Z"
    },
    "papermill": {
     "duration": 0.079875,
     "end_time": "2022-12-01T05:01:38.482340",
     "exception": false,
     "start_time": "2022-12-01T05:01:38.402465",
     "status": "completed"
    },
    "tags": []
   },
   "outputs": [
    {
     "name": "stdout",
     "output_type": "stream",
     "text": [
      "(10572, 95)\n"
     ]
    },
    {
     "data": {
      "text/html": [
       "<div>\n",
       "<style scoped>\n",
       "    .dataframe tbody tr th:only-of-type {\n",
       "        vertical-align: middle;\n",
       "    }\n",
       "\n",
       "    .dataframe tbody tr th {\n",
       "        vertical-align: top;\n",
       "    }\n",
       "\n",
       "    .dataframe thead th {\n",
       "        text-align: right;\n",
       "    }\n",
       "</style>\n",
       "<table border=\"1\" class=\"dataframe\">\n",
       "  <thead>\n",
       "    <tr style=\"text-align: right;\">\n",
       "      <th></th>\n",
       "      <th>ROA(C) before interest and depreciation before interest</th>\n",
       "      <th>ROA(A) before interest and % after tax</th>\n",
       "      <th>ROA(B) before interest and depreciation after tax</th>\n",
       "      <th>Operating Gross Margin</th>\n",
       "      <th>Realized Sales Gross Margin</th>\n",
       "      <th>Operating Profit Rate</th>\n",
       "      <th>Pre-tax net Interest Rate</th>\n",
       "      <th>After-tax net Interest Rate</th>\n",
       "      <th>Non-industry income and expenditure/revenue</th>\n",
       "      <th>Continuous interest rate (after tax)</th>\n",
       "      <th>...</th>\n",
       "      <th>Net Income to Total Assets</th>\n",
       "      <th>Total assets to GNP price</th>\n",
       "      <th>No-credit Interval</th>\n",
       "      <th>Gross Profit to Sales</th>\n",
       "      <th>Net Income to Stockholder's Equity</th>\n",
       "      <th>Liability to Equity</th>\n",
       "      <th>Degree of Financial Leverage (DFL)</th>\n",
       "      <th>Interest Coverage Ratio (Interest expense to EBIT)</th>\n",
       "      <th>Net Income Flag</th>\n",
       "      <th>Equity to Liability</th>\n",
       "    </tr>\n",
       "  </thead>\n",
       "  <tbody>\n",
       "    <tr>\n",
       "      <th>0</th>\n",
       "      <td>0.498513</td>\n",
       "      <td>0.542848</td>\n",
       "      <td>0.544622</td>\n",
       "      <td>0.599194</td>\n",
       "      <td>0.599036</td>\n",
       "      <td>0.998986</td>\n",
       "      <td>0.797412</td>\n",
       "      <td>0.809330</td>\n",
       "      <td>0.303528</td>\n",
       "      <td>0.781593</td>\n",
       "      <td>...</td>\n",
       "      <td>0.801313</td>\n",
       "      <td>0.005821</td>\n",
       "      <td>0.623649</td>\n",
       "      <td>0.599196</td>\n",
       "      <td>0.840580</td>\n",
       "      <td>0.282564</td>\n",
       "      <td>0.027239</td>\n",
       "      <td>0.566658</td>\n",
       "      <td>1</td>\n",
       "      <td>0.022512</td>\n",
       "    </tr>\n",
       "    <tr>\n",
       "      <th>1</th>\n",
       "      <td>0.506606</td>\n",
       "      <td>0.562309</td>\n",
       "      <td>0.558863</td>\n",
       "      <td>0.609334</td>\n",
       "      <td>0.609334</td>\n",
       "      <td>0.999027</td>\n",
       "      <td>0.797450</td>\n",
       "      <td>0.809375</td>\n",
       "      <td>0.303508</td>\n",
       "      <td>0.781637</td>\n",
       "      <td>...</td>\n",
       "      <td>0.810914</td>\n",
       "      <td>0.000481</td>\n",
       "      <td>0.623932</td>\n",
       "      <td>0.609332</td>\n",
       "      <td>0.841339</td>\n",
       "      <td>0.280570</td>\n",
       "      <td>0.026843</td>\n",
       "      <td>0.565395</td>\n",
       "      <td>1</td>\n",
       "      <td>0.026670</td>\n",
       "    </tr>\n",
       "    <tr>\n",
       "      <th>2</th>\n",
       "      <td>0.508799</td>\n",
       "      <td>0.561001</td>\n",
       "      <td>0.554687</td>\n",
       "      <td>0.614242</td>\n",
       "      <td>0.614055</td>\n",
       "      <td>0.999094</td>\n",
       "      <td>0.797533</td>\n",
       "      <td>0.809424</td>\n",
       "      <td>0.303514</td>\n",
       "      <td>0.781692</td>\n",
       "      <td>...</td>\n",
       "      <td>0.809740</td>\n",
       "      <td>0.001397</td>\n",
       "      <td>0.623714</td>\n",
       "      <td>0.614241</td>\n",
       "      <td>0.840969</td>\n",
       "      <td>0.277772</td>\n",
       "      <td>0.026864</td>\n",
       "      <td>0.565484</td>\n",
       "      <td>1</td>\n",
       "      <td>0.041556</td>\n",
       "    </tr>\n",
       "    <tr>\n",
       "      <th>3</th>\n",
       "      <td>0.499976</td>\n",
       "      <td>0.562527</td>\n",
       "      <td>0.546764</td>\n",
       "      <td>0.597825</td>\n",
       "      <td>0.597825</td>\n",
       "      <td>0.999004</td>\n",
       "      <td>0.797411</td>\n",
       "      <td>0.809329</td>\n",
       "      <td>0.303490</td>\n",
       "      <td>0.781590</td>\n",
       "      <td>...</td>\n",
       "      <td>0.810082</td>\n",
       "      <td>0.000998</td>\n",
       "      <td>0.623986</td>\n",
       "      <td>0.597824</td>\n",
       "      <td>0.841885</td>\n",
       "      <td>0.286871</td>\n",
       "      <td>0.026951</td>\n",
       "      <td>0.565820</td>\n",
       "      <td>1</td>\n",
       "      <td>0.018173</td>\n",
       "    </tr>\n",
       "    <tr>\n",
       "      <th>4</th>\n",
       "      <td>0.477892</td>\n",
       "      <td>0.547700</td>\n",
       "      <td>0.529150</td>\n",
       "      <td>0.600362</td>\n",
       "      <td>0.600362</td>\n",
       "      <td>0.998975</td>\n",
       "      <td>0.797412</td>\n",
       "      <td>0.809333</td>\n",
       "      <td>0.303551</td>\n",
       "      <td>0.781584</td>\n",
       "      <td>...</td>\n",
       "      <td>0.804638</td>\n",
       "      <td>0.002826</td>\n",
       "      <td>0.623845</td>\n",
       "      <td>0.600363</td>\n",
       "      <td>0.840885</td>\n",
       "      <td>0.282073</td>\n",
       "      <td>0.026959</td>\n",
       "      <td>0.565848</td>\n",
       "      <td>1</td>\n",
       "      <td>0.023328</td>\n",
       "    </tr>\n",
       "  </tbody>\n",
       "</table>\n",
       "<p>5 rows × 95 columns</p>\n",
       "</div>"
      ],
      "text/plain": [
       "    ROA(C) before interest and depreciation before interest  \\\n",
       "0                                           0.498513          \n",
       "1                                           0.506606          \n",
       "2                                           0.508799          \n",
       "3                                           0.499976          \n",
       "4                                           0.477892          \n",
       "\n",
       "    ROA(A) before interest and % after tax  \\\n",
       "0                                 0.542848   \n",
       "1                                 0.562309   \n",
       "2                                 0.561001   \n",
       "3                                 0.562527   \n",
       "4                                 0.547700   \n",
       "\n",
       "    ROA(B) before interest and depreciation after tax  \\\n",
       "0                                           0.544622    \n",
       "1                                           0.558863    \n",
       "2                                           0.554687    \n",
       "3                                           0.546764    \n",
       "4                                           0.529150    \n",
       "\n",
       "    Operating Gross Margin   Realized Sales Gross Margin  \\\n",
       "0                 0.599194                      0.599036   \n",
       "1                 0.609334                      0.609334   \n",
       "2                 0.614242                      0.614055   \n",
       "3                 0.597825                      0.597825   \n",
       "4                 0.600362                      0.600362   \n",
       "\n",
       "    Operating Profit Rate   Pre-tax net Interest Rate  \\\n",
       "0                0.998986                    0.797412   \n",
       "1                0.999027                    0.797450   \n",
       "2                0.999094                    0.797533   \n",
       "3                0.999004                    0.797411   \n",
       "4                0.998975                    0.797412   \n",
       "\n",
       "    After-tax net Interest Rate   Non-industry income and expenditure/revenue  \\\n",
       "0                      0.809330                                      0.303528   \n",
       "1                      0.809375                                      0.303508   \n",
       "2                      0.809424                                      0.303514   \n",
       "3                      0.809329                                      0.303490   \n",
       "4                      0.809333                                      0.303551   \n",
       "\n",
       "    Continuous interest rate (after tax)  ...   Net Income to Total Assets  \\\n",
       "0                               0.781593  ...                     0.801313   \n",
       "1                               0.781637  ...                     0.810914   \n",
       "2                               0.781692  ...                     0.809740   \n",
       "3                               0.781590  ...                     0.810082   \n",
       "4                               0.781584  ...                     0.804638   \n",
       "\n",
       "    Total assets to GNP price   No-credit Interval   Gross Profit to Sales  \\\n",
       "0                    0.005821             0.623649                0.599196   \n",
       "1                    0.000481             0.623932                0.609332   \n",
       "2                    0.001397             0.623714                0.614241   \n",
       "3                    0.000998             0.623986                0.597824   \n",
       "4                    0.002826             0.623845                0.600363   \n",
       "\n",
       "    Net Income to Stockholder's Equity   Liability to Equity  \\\n",
       "0                             0.840580              0.282564   \n",
       "1                             0.841339              0.280570   \n",
       "2                             0.840969              0.277772   \n",
       "3                             0.841885              0.286871   \n",
       "4                             0.840885              0.282073   \n",
       "\n",
       "    Degree of Financial Leverage (DFL)  \\\n",
       "0                             0.027239   \n",
       "1                             0.026843   \n",
       "2                             0.026864   \n",
       "3                             0.026951   \n",
       "4                             0.026959   \n",
       "\n",
       "    Interest Coverage Ratio (Interest expense to EBIT)   Net Income Flag  \\\n",
       "0                                           0.566658                   1   \n",
       "1                                           0.565395                   1   \n",
       "2                                           0.565484                   1   \n",
       "3                                           0.565820                   1   \n",
       "4                                           0.565848                   1   \n",
       "\n",
       "    Equity to Liability  \n",
       "0              0.022512  \n",
       "1              0.026670  \n",
       "2              0.041556  \n",
       "3              0.018173  \n",
       "4              0.023328  \n",
       "\n",
       "[5 rows x 95 columns]"
      ]
     },
     "execution_count": 6,
     "metadata": {},
     "output_type": "execute_result"
    }
   ],
   "source": [
    "over_sampler =RandomOverSampler(random_state=42)\n",
    "X_train_over,y_train_over=over_sampler.fit_resample(X_train,y_train)\n",
    "print(X_train_over.shape)\n",
    "X_train_over.head()"
   ]
  },
  {
   "cell_type": "markdown",
   "id": "eed930b9",
   "metadata": {
    "papermill": {
     "duration": 0.007239,
     "end_time": "2022-12-01T05:01:38.497118",
     "exception": false,
     "start_time": "2022-12-01T05:01:38.489879",
     "status": "completed"
    },
    "tags": []
   },
   "source": [
    "Building Model"
   ]
  },
  {
   "cell_type": "code",
   "execution_count": 7,
   "id": "818e66ba",
   "metadata": {
    "execution": {
     "iopub.execute_input": "2022-12-01T05:01:38.514207Z",
     "iopub.status.busy": "2022-12-01T05:01:38.513427Z",
     "iopub.status.idle": "2022-12-01T05:01:38.524655Z",
     "shell.execute_reply": "2022-12-01T05:01:38.523345Z"
    },
    "papermill": {
     "duration": 0.022624,
     "end_time": "2022-12-01T05:01:38.527199",
     "exception": false,
     "start_time": "2022-12-01T05:01:38.504575",
     "status": "completed"
    },
    "tags": []
   },
   "outputs": [
    {
     "data": {
      "text/plain": [
       "0.5"
      ]
     },
     "execution_count": 7,
     "metadata": {},
     "output_type": "execute_result"
    }
   ],
   "source": [
    "base_accuracy=y_train_over.value_counts(normalize=True).max()\n",
    "base_accuracy"
   ]
  },
  {
   "cell_type": "markdown",
   "id": "310187c4",
   "metadata": {
    "papermill": {
     "duration": 0.008102,
     "end_time": "2022-12-01T05:01:38.543421",
     "exception": false,
     "start_time": "2022-12-01T05:01:38.535319",
     "status": "completed"
    },
    "tags": []
   },
   "source": [
    "Create a pipeline that contains Simple Imputer as well as GradientBoostingClassifier"
   ]
  },
  {
   "cell_type": "code",
   "execution_count": 8,
   "id": "df2c341d",
   "metadata": {
    "execution": {
     "iopub.execute_input": "2022-12-01T05:01:38.561480Z",
     "iopub.status.busy": "2022-12-01T05:01:38.561066Z",
     "iopub.status.idle": "2022-12-01T05:01:38.566144Z",
     "shell.execute_reply": "2022-12-01T05:01:38.564820Z"
    },
    "papermill": {
     "duration": 0.017241,
     "end_time": "2022-12-01T05:01:38.568856",
     "exception": false,
     "start_time": "2022-12-01T05:01:38.551615",
     "status": "completed"
    },
    "tags": []
   },
   "outputs": [],
   "source": [
    "classifier=make_pipeline(SimpleImputer(),GradientBoostingClassifier())"
   ]
  },
  {
   "cell_type": "markdown",
   "id": "31e8d73e",
   "metadata": {
    "papermill": {
     "duration": 0.010278,
     "end_time": "2022-12-01T05:01:38.589308",
     "exception": false,
     "start_time": "2022-12-01T05:01:38.579030",
     "status": "completed"
    },
    "tags": []
   },
   "source": [
    "Create a dictionary with range of hyperparameters we want to evaluate for our classifier"
   ]
  },
  {
   "cell_type": "code",
   "execution_count": 9,
   "id": "8f06352d",
   "metadata": {
    "execution": {
     "iopub.execute_input": "2022-12-01T05:01:38.610368Z",
     "iopub.status.busy": "2022-12-01T05:01:38.609805Z",
     "iopub.status.idle": "2022-12-01T05:01:38.623124Z",
     "shell.execute_reply": "2022-12-01T05:01:38.621710Z"
    },
    "papermill": {
     "duration": 0.026223,
     "end_time": "2022-12-01T05:01:38.626137",
     "exception": false,
     "start_time": "2022-12-01T05:01:38.599914",
     "status": "completed"
    },
    "tags": []
   },
   "outputs": [
    {
     "data": {
      "text/plain": [
       "{'simpleimputer__strategy': ['mean', 'median'],\n",
       " 'gradientboostingclassifier__n_estimators': range(20, 31, 5),\n",
       " 'gradientboostingclassifier__max_depth': range(2, 5)}"
      ]
     },
     "execution_count": 9,
     "metadata": {},
     "output_type": "execute_result"
    }
   ],
   "source": [
    "params = {\n",
    "    \"simpleimputer__strategy\":[\"mean\",\"median\"],\n",
    "    \"gradientboostingclassifier__n_estimators\":range(20,31,5),\n",
    "    \"gradientboostingclassifier__max_depth\":range(2,5)\n",
    "    \n",
    "}\n",
    "params"
   ]
  },
  {
   "cell_type": "code",
   "execution_count": 10,
   "id": "299a11fa",
   "metadata": {
    "execution": {
     "iopub.execute_input": "2022-12-01T05:01:38.649698Z",
     "iopub.status.busy": "2022-12-01T05:01:38.649153Z",
     "iopub.status.idle": "2022-12-01T05:01:38.654525Z",
     "shell.execute_reply": "2022-12-01T05:01:38.653326Z"
    },
    "papermill": {
     "duration": 0.018978,
     "end_time": "2022-12-01T05:01:38.656938",
     "exception": false,
     "start_time": "2022-12-01T05:01:38.637960",
     "status": "completed"
    },
    "tags": []
   },
   "outputs": [],
   "source": [
    "model =GridSearchCV(classifier,param_grid=params,n_jobs=-1,verbose=1)"
   ]
  },
  {
   "cell_type": "markdown",
   "id": "84da95c0",
   "metadata": {
    "papermill": {
     "duration": 0.010629,
     "end_time": "2022-12-01T05:01:38.677710",
     "exception": false,
     "start_time": "2022-12-01T05:01:38.667081",
     "status": "completed"
    },
    "tags": []
   },
   "source": [
    "Fit our model to over_sampled data"
   ]
  },
  {
   "cell_type": "code",
   "execution_count": 11,
   "id": "31012b3b",
   "metadata": {
    "execution": {
     "iopub.execute_input": "2022-12-01T05:01:38.696233Z",
     "iopub.status.busy": "2022-12-01T05:01:38.695406Z",
     "iopub.status.idle": "2022-12-01T05:04:11.181512Z",
     "shell.execute_reply": "2022-12-01T05:04:11.180146Z"
    },
    "papermill": {
     "duration": 152.5055,
     "end_time": "2022-12-01T05:04:11.191324",
     "exception": false,
     "start_time": "2022-12-01T05:01:38.685824",
     "status": "completed"
    },
    "tags": []
   },
   "outputs": [
    {
     "name": "stdout",
     "output_type": "stream",
     "text": [
      "Fitting 5 folds for each of 18 candidates, totalling 90 fits\n"
     ]
    },
    {
     "data": {
      "text/plain": [
       "GridSearchCV(estimator=Pipeline(steps=[('simpleimputer', SimpleImputer()),\n",
       "                                       ('gradientboostingclassifier',\n",
       "                                        GradientBoostingClassifier())]),\n",
       "             n_jobs=-1,\n",
       "             param_grid={'gradientboostingclassifier__max_depth': range(2, 5),\n",
       "                         'gradientboostingclassifier__n_estimators': range(20, 31, 5),\n",
       "                         'simpleimputer__strategy': ['mean', 'median']},\n",
       "             verbose=1)"
      ]
     },
     "execution_count": 11,
     "metadata": {},
     "output_type": "execute_result"
    }
   ],
   "source": [
    "model.fit(X_train_over,y_train_over)"
   ]
  },
  {
   "cell_type": "markdown",
   "id": "6e806524",
   "metadata": {
    "papermill": {
     "duration": 0.007658,
     "end_time": "2022-12-01T05:04:11.206941",
     "exception": false,
     "start_time": "2022-12-01T05:04:11.199283",
     "status": "completed"
    },
    "tags": []
   },
   "source": [
    "Extract the cross_validation results from `model` and load them into a dataFrame named cv_results"
   ]
  },
  {
   "cell_type": "code",
   "execution_count": 12,
   "id": "9f0f21e5",
   "metadata": {
    "execution": {
     "iopub.execute_input": "2022-12-01T05:04:11.225029Z",
     "iopub.status.busy": "2022-12-01T05:04:11.224624Z",
     "iopub.status.idle": "2022-12-01T05:04:11.256026Z",
     "shell.execute_reply": "2022-12-01T05:04:11.254791Z"
    },
    "papermill": {
     "duration": 0.043679,
     "end_time": "2022-12-01T05:04:11.258588",
     "exception": false,
     "start_time": "2022-12-01T05:04:11.214909",
     "status": "completed"
    },
    "tags": []
   },
   "outputs": [
    {
     "data": {
      "text/html": [
       "<div>\n",
       "<style scoped>\n",
       "    .dataframe tbody tr th:only-of-type {\n",
       "        vertical-align: middle;\n",
       "    }\n",
       "\n",
       "    .dataframe tbody tr th {\n",
       "        vertical-align: top;\n",
       "    }\n",
       "\n",
       "    .dataframe thead th {\n",
       "        text-align: right;\n",
       "    }\n",
       "</style>\n",
       "<table border=\"1\" class=\"dataframe\">\n",
       "  <thead>\n",
       "    <tr style=\"text-align: right;\">\n",
       "      <th></th>\n",
       "      <th>mean_fit_time</th>\n",
       "      <th>std_fit_time</th>\n",
       "      <th>mean_score_time</th>\n",
       "      <th>std_score_time</th>\n",
       "      <th>param_gradientboostingclassifier__max_depth</th>\n",
       "      <th>param_gradientboostingclassifier__n_estimators</th>\n",
       "      <th>param_simpleimputer__strategy</th>\n",
       "      <th>params</th>\n",
       "      <th>split0_test_score</th>\n",
       "      <th>split1_test_score</th>\n",
       "      <th>split2_test_score</th>\n",
       "      <th>split3_test_score</th>\n",
       "      <th>split4_test_score</th>\n",
       "      <th>mean_test_score</th>\n",
       "      <th>std_test_score</th>\n",
       "      <th>rank_test_score</th>\n",
       "    </tr>\n",
       "  </thead>\n",
       "  <tbody>\n",
       "    <tr>\n",
       "      <th>16</th>\n",
       "      <td>9.502062</td>\n",
       "      <td>0.017944</td>\n",
       "      <td>0.010460</td>\n",
       "      <td>0.000609</td>\n",
       "      <td>4</td>\n",
       "      <td>30</td>\n",
       "      <td>mean</td>\n",
       "      <td>{'gradientboostingclassifier__max_depth': 4, '...</td>\n",
       "      <td>0.963121</td>\n",
       "      <td>0.964066</td>\n",
       "      <td>0.964522</td>\n",
       "      <td>0.966887</td>\n",
       "      <td>0.970672</td>\n",
       "      <td>0.965854</td>\n",
       "      <td>0.002710</td>\n",
       "      <td>1</td>\n",
       "    </tr>\n",
       "    <tr>\n",
       "      <th>17</th>\n",
       "      <td>9.039661</td>\n",
       "      <td>0.769638</td>\n",
       "      <td>0.009569</td>\n",
       "      <td>0.001334</td>\n",
       "      <td>4</td>\n",
       "      <td>30</td>\n",
       "      <td>median</td>\n",
       "      <td>{'gradientboostingclassifier__max_depth': 4, '...</td>\n",
       "      <td>0.962648</td>\n",
       "      <td>0.964066</td>\n",
       "      <td>0.964049</td>\n",
       "      <td>0.966887</td>\n",
       "      <td>0.971145</td>\n",
       "      <td>0.965759</td>\n",
       "      <td>0.003025</td>\n",
       "      <td>2</td>\n",
       "    </tr>\n",
       "    <tr>\n",
       "      <th>15</th>\n",
       "      <td>8.326897</td>\n",
       "      <td>0.219784</td>\n",
       "      <td>0.010726</td>\n",
       "      <td>0.001788</td>\n",
       "      <td>4</td>\n",
       "      <td>25</td>\n",
       "      <td>median</td>\n",
       "      <td>{'gradientboostingclassifier__max_depth': 4, '...</td>\n",
       "      <td>0.961229</td>\n",
       "      <td>0.963121</td>\n",
       "      <td>0.962157</td>\n",
       "      <td>0.964995</td>\n",
       "      <td>0.969726</td>\n",
       "      <td>0.964246</td>\n",
       "      <td>0.003011</td>\n",
       "      <td>3</td>\n",
       "    </tr>\n",
       "    <tr>\n",
       "      <th>14</th>\n",
       "      <td>7.892342</td>\n",
       "      <td>0.049187</td>\n",
       "      <td>0.010312</td>\n",
       "      <td>0.000291</td>\n",
       "      <td>4</td>\n",
       "      <td>25</td>\n",
       "      <td>mean</td>\n",
       "      <td>{'gradientboostingclassifier__max_depth': 4, '...</td>\n",
       "      <td>0.961229</td>\n",
       "      <td>0.962175</td>\n",
       "      <td>0.962157</td>\n",
       "      <td>0.964995</td>\n",
       "      <td>0.969253</td>\n",
       "      <td>0.963962</td>\n",
       "      <td>0.002932</td>\n",
       "      <td>4</td>\n",
       "    </tr>\n",
       "    <tr>\n",
       "      <th>12</th>\n",
       "      <td>6.392925</td>\n",
       "      <td>0.086852</td>\n",
       "      <td>0.010157</td>\n",
       "      <td>0.000305</td>\n",
       "      <td>4</td>\n",
       "      <td>20</td>\n",
       "      <td>mean</td>\n",
       "      <td>{'gradientboostingclassifier__max_depth': 4, '...</td>\n",
       "      <td>0.956974</td>\n",
       "      <td>0.960284</td>\n",
       "      <td>0.957900</td>\n",
       "      <td>0.960738</td>\n",
       "      <td>0.966887</td>\n",
       "      <td>0.960557</td>\n",
       "      <td>0.003466</td>\n",
       "      <td>5</td>\n",
       "    </tr>\n",
       "    <tr>\n",
       "      <th>13</th>\n",
       "      <td>6.461350</td>\n",
       "      <td>0.024975</td>\n",
       "      <td>0.009798</td>\n",
       "      <td>0.000168</td>\n",
       "      <td>4</td>\n",
       "      <td>20</td>\n",
       "      <td>median</td>\n",
       "      <td>{'gradientboostingclassifier__max_depth': 4, '...</td>\n",
       "      <td>0.956974</td>\n",
       "      <td>0.958865</td>\n",
       "      <td>0.957900</td>\n",
       "      <td>0.961211</td>\n",
       "      <td>0.966887</td>\n",
       "      <td>0.960367</td>\n",
       "      <td>0.003552</td>\n",
       "      <td>6</td>\n",
       "    </tr>\n",
       "    <tr>\n",
       "      <th>10</th>\n",
       "      <td>7.291056</td>\n",
       "      <td>0.021092</td>\n",
       "      <td>0.010311</td>\n",
       "      <td>0.000457</td>\n",
       "      <td>3</td>\n",
       "      <td>30</td>\n",
       "      <td>mean</td>\n",
       "      <td>{'gradientboostingclassifier__max_depth': 3, '...</td>\n",
       "      <td>0.945154</td>\n",
       "      <td>0.948936</td>\n",
       "      <td>0.950804</td>\n",
       "      <td>0.947020</td>\n",
       "      <td>0.945601</td>\n",
       "      <td>0.947503</td>\n",
       "      <td>0.002113</td>\n",
       "      <td>7</td>\n",
       "    </tr>\n",
       "    <tr>\n",
       "      <th>11</th>\n",
       "      <td>7.700474</td>\n",
       "      <td>0.204202</td>\n",
       "      <td>0.010302</td>\n",
       "      <td>0.000398</td>\n",
       "      <td>3</td>\n",
       "      <td>30</td>\n",
       "      <td>median</td>\n",
       "      <td>{'gradientboostingclassifier__max_depth': 3, '...</td>\n",
       "      <td>0.945154</td>\n",
       "      <td>0.948936</td>\n",
       "      <td>0.950804</td>\n",
       "      <td>0.946547</td>\n",
       "      <td>0.945601</td>\n",
       "      <td>0.947408</td>\n",
       "      <td>0.002143</td>\n",
       "      <td>8</td>\n",
       "    </tr>\n",
       "    <tr>\n",
       "      <th>9</th>\n",
       "      <td>6.203096</td>\n",
       "      <td>0.039212</td>\n",
       "      <td>0.009630</td>\n",
       "      <td>0.000121</td>\n",
       "      <td>3</td>\n",
       "      <td>25</td>\n",
       "      <td>median</td>\n",
       "      <td>{'gradientboostingclassifier__max_depth': 3, '...</td>\n",
       "      <td>0.939007</td>\n",
       "      <td>0.942317</td>\n",
       "      <td>0.932829</td>\n",
       "      <td>0.942763</td>\n",
       "      <td>0.942763</td>\n",
       "      <td>0.939936</td>\n",
       "      <td>0.003822</td>\n",
       "      <td>9</td>\n",
       "    </tr>\n",
       "    <tr>\n",
       "      <th>8</th>\n",
       "      <td>6.350209</td>\n",
       "      <td>0.193944</td>\n",
       "      <td>0.009724</td>\n",
       "      <td>0.000269</td>\n",
       "      <td>3</td>\n",
       "      <td>25</td>\n",
       "      <td>mean</td>\n",
       "      <td>{'gradientboostingclassifier__max_depth': 3, '...</td>\n",
       "      <td>0.939007</td>\n",
       "      <td>0.942317</td>\n",
       "      <td>0.932829</td>\n",
       "      <td>0.942289</td>\n",
       "      <td>0.942763</td>\n",
       "      <td>0.939841</td>\n",
       "      <td>0.003756</td>\n",
       "      <td>10</td>\n",
       "    </tr>\n",
       "  </tbody>\n",
       "</table>\n",
       "</div>"
      ],
      "text/plain": [
       "    mean_fit_time  std_fit_time  mean_score_time  std_score_time  \\\n",
       "16       9.502062      0.017944         0.010460        0.000609   \n",
       "17       9.039661      0.769638         0.009569        0.001334   \n",
       "15       8.326897      0.219784         0.010726        0.001788   \n",
       "14       7.892342      0.049187         0.010312        0.000291   \n",
       "12       6.392925      0.086852         0.010157        0.000305   \n",
       "13       6.461350      0.024975         0.009798        0.000168   \n",
       "10       7.291056      0.021092         0.010311        0.000457   \n",
       "11       7.700474      0.204202         0.010302        0.000398   \n",
       "9        6.203096      0.039212         0.009630        0.000121   \n",
       "8        6.350209      0.193944         0.009724        0.000269   \n",
       "\n",
       "   param_gradientboostingclassifier__max_depth  \\\n",
       "16                                           4   \n",
       "17                                           4   \n",
       "15                                           4   \n",
       "14                                           4   \n",
       "12                                           4   \n",
       "13                                           4   \n",
       "10                                           3   \n",
       "11                                           3   \n",
       "9                                            3   \n",
       "8                                            3   \n",
       "\n",
       "   param_gradientboostingclassifier__n_estimators  \\\n",
       "16                                             30   \n",
       "17                                             30   \n",
       "15                                             25   \n",
       "14                                             25   \n",
       "12                                             20   \n",
       "13                                             20   \n",
       "10                                             30   \n",
       "11                                             30   \n",
       "9                                              25   \n",
       "8                                              25   \n",
       "\n",
       "   param_simpleimputer__strategy  \\\n",
       "16                          mean   \n",
       "17                        median   \n",
       "15                        median   \n",
       "14                          mean   \n",
       "12                          mean   \n",
       "13                        median   \n",
       "10                          mean   \n",
       "11                        median   \n",
       "9                         median   \n",
       "8                           mean   \n",
       "\n",
       "                                               params  split0_test_score  \\\n",
       "16  {'gradientboostingclassifier__max_depth': 4, '...           0.963121   \n",
       "17  {'gradientboostingclassifier__max_depth': 4, '...           0.962648   \n",
       "15  {'gradientboostingclassifier__max_depth': 4, '...           0.961229   \n",
       "14  {'gradientboostingclassifier__max_depth': 4, '...           0.961229   \n",
       "12  {'gradientboostingclassifier__max_depth': 4, '...           0.956974   \n",
       "13  {'gradientboostingclassifier__max_depth': 4, '...           0.956974   \n",
       "10  {'gradientboostingclassifier__max_depth': 3, '...           0.945154   \n",
       "11  {'gradientboostingclassifier__max_depth': 3, '...           0.945154   \n",
       "9   {'gradientboostingclassifier__max_depth': 3, '...           0.939007   \n",
       "8   {'gradientboostingclassifier__max_depth': 3, '...           0.939007   \n",
       "\n",
       "    split1_test_score  split2_test_score  split3_test_score  \\\n",
       "16           0.964066           0.964522           0.966887   \n",
       "17           0.964066           0.964049           0.966887   \n",
       "15           0.963121           0.962157           0.964995   \n",
       "14           0.962175           0.962157           0.964995   \n",
       "12           0.960284           0.957900           0.960738   \n",
       "13           0.958865           0.957900           0.961211   \n",
       "10           0.948936           0.950804           0.947020   \n",
       "11           0.948936           0.950804           0.946547   \n",
       "9            0.942317           0.932829           0.942763   \n",
       "8            0.942317           0.932829           0.942289   \n",
       "\n",
       "    split4_test_score  mean_test_score  std_test_score  rank_test_score  \n",
       "16           0.970672         0.965854        0.002710                1  \n",
       "17           0.971145         0.965759        0.003025                2  \n",
       "15           0.969726         0.964246        0.003011                3  \n",
       "14           0.969253         0.963962        0.002932                4  \n",
       "12           0.966887         0.960557        0.003466                5  \n",
       "13           0.966887         0.960367        0.003552                6  \n",
       "10           0.945601         0.947503        0.002113                7  \n",
       "11           0.945601         0.947408        0.002143                8  \n",
       "9            0.942763         0.939936        0.003822                9  \n",
       "8            0.942763         0.939841        0.003756               10  "
      ]
     },
     "execution_count": 12,
     "metadata": {},
     "output_type": "execute_result"
    }
   ],
   "source": [
    "results=pd.DataFrame(model.cv_results_)\n",
    "results.sort_values(\"rank_test_score\").head(10)"
   ]
  },
  {
   "cell_type": "markdown",
   "id": "c12d1b11",
   "metadata": {
    "papermill": {
     "duration": 0.008672,
     "end_time": "2022-12-01T05:04:11.276094",
     "exception": false,
     "start_time": "2022-12-01T05:04:11.267422",
     "status": "completed"
    },
    "tags": []
   },
   "source": [
    "Extract best hyperparameter models"
   ]
  },
  {
   "cell_type": "code",
   "execution_count": 13,
   "id": "6f7aa632",
   "metadata": {
    "execution": {
     "iopub.execute_input": "2022-12-01T05:04:11.295076Z",
     "iopub.status.busy": "2022-12-01T05:04:11.294675Z",
     "iopub.status.idle": "2022-12-01T05:04:11.302198Z",
     "shell.execute_reply": "2022-12-01T05:04:11.301194Z"
    },
    "papermill": {
     "duration": 0.019792,
     "end_time": "2022-12-01T05:04:11.304486",
     "exception": false,
     "start_time": "2022-12-01T05:04:11.284694",
     "status": "completed"
    },
    "tags": []
   },
   "outputs": [
    {
     "data": {
      "text/plain": [
       "{'gradientboostingclassifier__max_depth': 4,\n",
       " 'gradientboostingclassifier__n_estimators': 30,\n",
       " 'simpleimputer__strategy': 'mean'}"
      ]
     },
     "execution_count": 13,
     "metadata": {},
     "output_type": "execute_result"
    }
   ],
   "source": [
    "model.best_params_"
   ]
  },
  {
   "cell_type": "markdown",
   "id": "f34a0f3e",
   "metadata": {
    "papermill": {
     "duration": 0.0086,
     "end_time": "2022-12-01T05:04:11.321611",
     "exception": false,
     "start_time": "2022-12-01T05:04:11.313011",
     "status": "completed"
    },
    "tags": []
   },
   "source": [
    "Evaluate Your Model"
   ]
  },
  {
   "cell_type": "code",
   "execution_count": 14,
   "id": "ba5d34e9",
   "metadata": {
    "execution": {
     "iopub.execute_input": "2022-12-01T05:04:11.340866Z",
     "iopub.status.busy": "2022-12-01T05:04:11.340478Z",
     "iopub.status.idle": "2022-12-01T05:04:11.368708Z",
     "shell.execute_reply": "2022-12-01T05:04:11.367338Z"
    },
    "papermill": {
     "duration": 0.041257,
     "end_time": "2022-12-01T05:04:11.371733",
     "exception": false,
     "start_time": "2022-12-01T05:04:11.330476",
     "status": "completed"
    },
    "tags": []
   },
   "outputs": [
    {
     "name": "stdout",
     "output_type": "stream",
     "text": [
      "Training Accuracy: 0.949\n",
      "Validation Accuracy: 0.927\n"
     ]
    }
   ],
   "source": [
    "acc_train = model.score(X_train,y_train)\n",
    "acc_test = model.score(X_test,y_test)\n",
    "\n",
    "print(\"Training Accuracy:\", round(acc_train, 3))\n",
    "print(\"Validation Accuracy:\", round(acc_test, 3))"
   ]
  },
  {
   "cell_type": "markdown",
   "id": "0b07c53b",
   "metadata": {
    "papermill": {
     "duration": 0.008489,
     "end_time": "2022-12-01T05:04:11.389801",
     "exception": false,
     "start_time": "2022-12-01T05:04:11.381312",
     "status": "completed"
    },
    "tags": []
   },
   "source": [
    "Let us create a confusion Matrix to see how our `Model` performed"
   ]
  },
  {
   "cell_type": "code",
   "execution_count": 15,
   "id": "995300d4",
   "metadata": {
    "execution": {
     "iopub.execute_input": "2022-12-01T05:04:11.408865Z",
     "iopub.status.busy": "2022-12-01T05:04:11.408452Z",
     "iopub.status.idle": "2022-12-01T05:04:11.712466Z",
     "shell.execute_reply": "2022-12-01T05:04:11.711004Z"
    },
    "papermill": {
     "duration": 0.31674,
     "end_time": "2022-12-01T05:04:11.715190",
     "exception": false,
     "start_time": "2022-12-01T05:04:11.398450",
     "status": "completed"
    },
    "tags": []
   },
   "outputs": [
    {
     "data": {
      "image/png": "[encoded data removed]",
      "text/plain": [
       "<Figure size 432x288 with 2 Axes>"
      ]
     },
     "metadata": {
      "needs_background": "light"
     },
     "output_type": "display_data"
    }
   ],
   "source": [
    "# Plot confusion matrix\n",
    "ConfusionMatrixDisplay.from_estimator(model,X_test,y_test);\n"
   ]
  },
  {
   "cell_type": "markdown",
   "id": "9198acf4",
   "metadata": {
    "papermill": {
     "duration": 0.008484,
     "end_time": "2022-12-01T05:04:11.732685",
     "exception": false,
     "start_time": "2022-12-01T05:04:11.724201",
     "status": "completed"
    },
    "tags": []
   },
   "source": [
    "Print Classification report"
   ]
  },
  {
   "cell_type": "code",
   "execution_count": 16,
   "id": "653dada6",
   "metadata": {
    "execution": {
     "iopub.execute_input": "2022-12-01T05:04:11.752327Z",
     "iopub.status.busy": "2022-12-01T05:04:11.751907Z",
     "iopub.status.idle": "2022-12-01T05:04:11.785535Z",
     "shell.execute_reply": "2022-12-01T05:04:11.783972Z"
    },
    "papermill": {
     "duration": 0.04675,
     "end_time": "2022-12-01T05:04:11.788235",
     "exception": false,
     "start_time": "2022-12-01T05:04:11.741485",
     "status": "completed"
    },
    "tags": []
   },
   "outputs": [
    {
     "name": "stdout",
     "output_type": "stream",
     "text": [
      "              precision    recall  f1-score   support\n",
      "\n",
      "           0       1.00      0.95      0.97      5286\n",
      "           1       0.38      0.99      0.55       169\n",
      "\n",
      "    accuracy                           0.95      5455\n",
      "   macro avg       0.69      0.97      0.76      5455\n",
      "weighted avg       0.98      0.95      0.96      5455\n",
      "\n"
     ]
    }
   ],
   "source": [
    "print(classification_report(y_train,model.predict(X_train)))"
   ]
  },
  {
   "cell_type": "markdown",
   "id": "15b45e49",
   "metadata": {
    "papermill": {
     "duration": 0.009903,
     "end_time": "2022-12-01T05:04:11.807513",
     "exception": false,
     "start_time": "2022-12-01T05:04:11.797610",
     "status": "completed"
    },
    "tags": []
   },
   "source": []
  },
  {
   "cell_type": "code",
   "execution_count": 17,
   "id": "b3417e43",
   "metadata": {
    "execution": {
     "iopub.execute_input": "2022-12-01T05:04:11.828341Z",
     "iopub.status.busy": "2022-12-01T05:04:11.827813Z",
     "iopub.status.idle": "2022-12-01T05:04:11.841404Z",
     "shell.execute_reply": "2022-12-01T05:04:11.840473Z"
    },
    "papermill": {
     "duration": 0.026607,
     "end_time": "2022-12-01T05:04:11.843530",
     "exception": false,
     "start_time": "2022-12-01T05:04:11.816923",
     "status": "completed"
    },
    "tags": []
   },
   "outputs": [
    {
     "data": {
      "text/plain": [
       "array([0, 0, 0, 1, 0, 0])"
      ]
     },
     "execution_count": 17,
     "metadata": {},
     "output_type": "execute_result"
    }
   ],
   "source": [
    "model.predict(X_test)[:6]"
   ]
  },
  {
   "cell_type": "code",
   "execution_count": 18,
   "id": "a56c7667",
   "metadata": {
    "execution": {
     "iopub.execute_input": "2022-12-01T05:04:11.864686Z",
     "iopub.status.busy": "2022-12-01T05:04:11.863497Z",
     "iopub.status.idle": "2022-12-01T05:04:11.876603Z",
     "shell.execute_reply": "2022-12-01T05:04:11.875652Z"
    },
    "papermill": {
     "duration": 0.025785,
     "end_time": "2022-12-01T05:04:11.878875",
     "exception": false,
     "start_time": "2022-12-01T05:04:11.853090",
     "status": "completed"
    },
    "tags": []
   },
   "outputs": [
    {
     "data": {
      "text/plain": [
       "array([0.04211313, 0.03756504, 0.03756504, 0.8594525 , 0.37552619])"
      ]
     },
     "execution_count": 18,
     "metadata": {},
     "output_type": "execute_result"
    }
   ],
   "source": [
    "model.predict_proba(X_test)[:5,-1]"
   ]
  },
  {
   "cell_type": "code",
   "execution_count": null,
   "id": "c9b029af",
   "metadata": {
    "papermill": {
     "duration": 0.008786,
     "end_time": "2022-12-01T05:04:11.896868",
     "exception": false,
     "start_time": "2022-12-01T05:04:11.888082",
     "status": "completed"
    },
    "tags": []
   },
   "outputs": [],
   "source": []
  }
 ],
 "metadata": {
  "kernelspec": {
   "display_name": "Python 3",
   "language": "python",
   "name": "python3"
  },
  "language_info": {
   "codemirror_mode": {
    "name": "ipython",
    "version": 3
   },
   "file_extension": ".py",
   "mimetype": "text/x-python",
   "name": "python",
   "nbconvert_exporter": "python",
   "pygments_lexer": "ipython3",
   "version": "3.7.12"
  },
  "papermill": {
   "default_parameters": {},
   "duration": 166.981027,
   "end_time": "2022-12-01T05:04:14.529421",
   "environment_variables": {},
   "exception": null,
   "input_path": "__notebook__.ipynb",
   "output_path": "__notebook__.ipynb",
   "parameters": {},
   "start_time": "2022-12-01T05:01:27.548394",
   "version": "2.3.4"
  }
 },
 "nbformat": 4,
 "nbformat_minor": 5
}
