{
  "nbformat": 4,
  "nbformat_minor": 0,
  "metadata": {
    "colab": {
      "provenance": [],
      "toc_visible": true,
      "authorship_tag": "ABX9TyORMoTMntLAW0XUyJDfOgaR",
      "include_colab_link": true
    },
    "kernelspec": {
      "name": "python3",
      "display_name": "Python 3"
    },
    "language_info": {
      "name": "python"
    }
  },
  "cells": [
    {
      "cell_type": "markdown",
      "metadata": {
        "id": "view-in-github",
        "colab_type": "text"
      },
      "source": [
        "<a href=\"https://colab.research.google.com/github/ugbana1/Abtractive-Summary/blob/main/TensorflowTutorial.ipynb\" target=\"_parent\"><img src=\"https://colab.research.google.com/assets/colab-badge.svg\" alt=\"Open In Colab\"/></a>"
      ]
    },
    {
      "cell_type": "code",
      "execution_count": 2,
      "metadata": {
        "id": "J8o4OIJta-Q6"
      },
      "outputs": [],
      "source": [
        "import tensorflow as tf"
      ]
    },
    {
      "cell_type": "code",
      "source": [
        "tensor_zero_d =tf.constant(4)\n",
        "print(tensor_zero_d)"
      ],
      "metadata": {
        "colab": {
          "base_uri": "https://localhost:8080/"
        },
        "id": "5PE2i0d3bxZ9",
        "outputId": "fe203e42-39b4-4073-ba32-07acfb99bf7e"
      },
      "execution_count": 3,
      "outputs": [
        {
          "output_type": "stream",
          "name": "stdout",
          "text": [
            "tf.Tensor(4, shape=(), dtype=int32)\n"
          ]
        }
      ]
    },
    {
      "cell_type": "markdown",
      "source": [
        "One Dimensional Array"
      ],
      "metadata": {
        "id": "j4YswwSIcYB9"
      }
    },
    {
      "cell_type": "code",
      "source": [
        "tensor_one_d =tf.constant([2,0,-3,8,90.0])"
      ],
      "metadata": {
        "id": "lyMf2yilcWiH"
      },
      "execution_count": 10,
      "outputs": []
    },
    {
      "cell_type": "code",
      "source": [
        "print(tensor_one_d)"
      ],
      "metadata": {
        "colab": {
          "base_uri": "https://localhost:8080/"
        },
        "id": "U2aLp6EHcWnl",
        "outputId": "39ef5486-7dff-40bd-ef21-9c29b6f05e18"
      },
      "execution_count": 11,
      "outputs": [
        {
          "output_type": "stream",
          "name": "stdout",
          "text": [
            "tf.Tensor([ 2.  0. -3.  8. 90.], shape=(5,), dtype=float32)\n"
          ]
        }
      ]
    },
    {
      "cell_type": "markdown",
      "source": [
        "Creating a 2D tensor\n",
        "\n"
      ],
      "metadata": {
        "id": "lJhboU4feSPF"
      }
    },
    {
      "cell_type": "code",
      "source": [
        "tensor_two_d=tf.constant([\n",
        "    [1,2,0],\n",
        "    [2,3,4],\n",
        "    [3,5,6]\n",
        "\n",
        "])"
      ],
      "metadata": {
        "id": "1krYNW0ncWtU"
      },
      "execution_count": 12,
      "outputs": []
    },
    {
      "cell_type": "code",
      "source": [
        "print(tensor_two_d)"
      ],
      "metadata": {
        "colab": {
          "base_uri": "https://localhost:8080/"
        },
        "id": "XRRDsJCqcWyG",
        "outputId": "5640d95c-2024-468b-c6cb-b2c564bfb6d8"
      },
      "execution_count": 13,
      "outputs": [
        {
          "output_type": "stream",
          "name": "stdout",
          "text": [
            "tf.Tensor(\n",
            "[[1 2 0]\n",
            " [2 3 4]\n",
            " [3 5 6]], shape=(3, 3), dtype=int32)\n"
          ]
        }
      ]
    },
    {
      "cell_type": "markdown",
      "source": [
        "Creating 3 D tensors\n"
      ],
      "metadata": {
        "id": "tZxxciqpfaVL"
      }
    },
    {
      "cell_type": "code",
      "source": [
        "tensor_three_d=tf.constant([\n",
        "    [[1,5,0],\n",
        "     [3,5,-1]],\n",
        "    [[6,8,0],\n",
        "     [3,8,9]],\n",
        "    [[6,5,4],[0,3,7]]\n",
        "\n",
        "])"
      ],
      "metadata": {
        "id": "PMh135zRcW5p"
      },
      "execution_count": 15,
      "outputs": []
    },
    {
      "cell_type": "code",
      "source": [
        "print(tensor_three_d)"
      ],
      "metadata": {
        "colab": {
          "base_uri": "https://localhost:8080/"
        },
        "id": "P6nuBzP9hrur",
        "outputId": "4803a4cb-9d5b-4ca2-b0df-01dcfd812b61"
      },
      "execution_count": 16,
      "outputs": [
        {
          "output_type": "stream",
          "name": "stdout",
          "text": [
            "tf.Tensor(\n",
            "[[[ 1  5  0]\n",
            "  [ 3  5 -1]]\n",
            "\n",
            " [[ 6  8  0]\n",
            "  [ 3  8  9]]\n",
            "\n",
            " [[ 6  5  4]\n",
            "  [ 0  3  7]]], shape=(3, 2, 3), dtype=int32)\n"
          ]
        }
      ]
    },
    {
      "cell_type": "code",
      "source": [
        "tensor_three_d.shape"
      ],
      "metadata": {
        "colab": {
          "base_uri": "https://localhost:8080/"
        },
        "id": "OyZMfvw7iJnn",
        "outputId": "58232d1f-b992-4e3e-ba4a-667a8ba7f3ae"
      },
      "execution_count": 20,
      "outputs": [
        {
          "output_type": "execute_result",
          "data": {
            "text/plain": [
              "TensorShape([3, 2, 3])"
            ]
          },
          "metadata": {},
          "execution_count": 20
        }
      ]
    },
    {
      "cell_type": "code",
      "source": [
        "tensor_four_d=tf.constant([[\n",
        "     [[1,5,0],\n",
        "     [3,5,-1]],\n",
        "    [[6,8,0],\n",
        "     [3,8,9]],\n",
        "    [[6,5,4],[0,3,7]],\n",
        "      [[1,5,0],\n",
        "     [3,5,-1]],\n",
        "    [[6,8,0],\n",
        "     [3,8,9]],\n",
        "    [[6,5,4],[0,3,7]],\n",
        "      [[1,5,0],\n",
        "     [3,5,-1]],\n",
        "    [[6,8,0],\n",
        "     [3,8,9]],\n",
        "    [[6,5,4],[0,3,7]]\n",
        "]])"
      ],
      "metadata": {
        "id": "v-F6WSQciJ3Y"
      },
      "execution_count": 24,
      "outputs": []
    },
    {
      "cell_type": "code",
      "source": [
        "print(tensor_four_d)"
      ],
      "metadata": {
        "colab": {
          "base_uri": "https://localhost:8080/"
        },
        "id": "qs4gVtRhjAkg",
        "outputId": "d96c4752-03f8-44dd-d042-8a8d95070a8f"
      },
      "execution_count": 25,
      "outputs": [
        {
          "output_type": "stream",
          "name": "stdout",
          "text": [
            "tf.Tensor(\n",
            "[[[[ 1  5  0]\n",
            "   [ 3  5 -1]]\n",
            "\n",
            "  [[ 6  8  0]\n",
            "   [ 3  8  9]]\n",
            "\n",
            "  [[ 6  5  4]\n",
            "   [ 0  3  7]]\n",
            "\n",
            "  [[ 1  5  0]\n",
            "   [ 3  5 -1]]\n",
            "\n",
            "  [[ 6  8  0]\n",
            "   [ 3  8  9]]\n",
            "\n",
            "  [[ 6  5  4]\n",
            "   [ 0  3  7]]\n",
            "\n",
            "  [[ 1  5  0]\n",
            "   [ 3  5 -1]]\n",
            "\n",
            "  [[ 6  8  0]\n",
            "   [ 3  8  9]]\n",
            "\n",
            "  [[ 6  5  4]\n",
            "   [ 0  3  7]]]], shape=(1, 9, 2, 3), dtype=int32)\n"
          ]
        }
      ]
    },
    {
      "cell_type": "code",
      "source": [
        "print(tensor_four_d.shape)"
      ],
      "metadata": {
        "colab": {
          "base_uri": "https://localhost:8080/"
        },
        "id": "cYCJx2CYjAty",
        "outputId": "20472c29-2c35-4ee2-b615-2f7f9d526fd1"
      },
      "execution_count": 26,
      "outputs": [
        {
          "output_type": "stream",
          "name": "stdout",
          "text": [
            "(1, 9, 2, 3)\n"
          ]
        }
      ]
    },
    {
      "cell_type": "markdown",
      "source": [
        "Tensor Casting"
      ],
      "metadata": {
        "id": "c1EB0fl0l6fL"
      }
    },
    {
      "cell_type": "code",
      "source": [
        "tensor_one_d=tf.constant([2,0,-3],dtype=tf.float32)\n",
        "tensor_cast=tf.cast(tensor_one_d,dtype=tf.bool)\n",
        "print(tensor_cast)\n",
        "print(tensor_one_d)"
      ],
      "metadata": {
        "colab": {
          "base_uri": "https://localhost:8080/"
        },
        "id": "EVy4hLdujAy6",
        "outputId": "8b205394-6b62-4a3c-f1ae-439befa9fcf0"
      },
      "execution_count": 27,
      "outputs": [
        {
          "output_type": "stream",
          "name": "stdout",
          "text": [
            "tf.Tensor([ True False  True], shape=(3,), dtype=bool)\n",
            "tf.Tensor([ 2.  0. -3.], shape=(3,), dtype=float32)\n"
          ]
        }
      ]
    },
    {
      "cell_type": "code",
      "source": [
        "tensor_boo=tf.constant([True,True,False])\n",
        "print(tensor_boo)"
      ],
      "metadata": {
        "colab": {
          "base_uri": "https://localhost:8080/"
        },
        "id": "TYUmwvMLmZvA",
        "outputId": "f364f1fb-bdf2-4db9-b0f2-ab638cf6e1ce"
      },
      "execution_count": 28,
      "outputs": [
        {
          "output_type": "stream",
          "name": "stdout",
          "text": [
            "tf.Tensor([ True  True False], shape=(3,), dtype=bool)\n"
          ]
        }
      ]
    },
    {
      "cell_type": "code",
      "source": [
        "tensor_string=tf.constant(['Hello World','Hi '])\n",
        "print(tensor_string)"
      ],
      "metadata": {
        "colab": {
          "base_uri": "https://localhost:8080/"
        },
        "id": "vZ2c5c7ctfmP",
        "outputId": "99674a03-450f-45ab-b411-dceb9b0359d2"
      },
      "execution_count": 29,
      "outputs": [
        {
          "output_type": "stream",
          "name": "stdout",
          "text": [
            "tf.Tensor([b'Hello World' b'Hi '], shape=(2,), dtype=string)\n"
          ]
        }
      ]
    },
    {
      "cell_type": "code",
      "source": [
        "import numpy as np\n",
        "np_array=np.array([1,2,3])\n",
        "print(np_array)"
      ],
      "metadata": {
        "colab": {
          "base_uri": "https://localhost:8080/"
        },
        "id": "nHsaVwJPvcVc",
        "outputId": "1bdcec39-355a-47b9-d6c6-fb97ae386f2a"
      },
      "execution_count": 30,
      "outputs": [
        {
          "output_type": "stream",
          "name": "stdout",
          "text": [
            "[1 2 3]\n"
          ]
        }
      ]
    },
    {
      "cell_type": "code",
      "source": [
        "converted_tensor=tf.convert_to_tensor(np_array)\n",
        "print(converted_tensor)"
      ],
      "metadata": {
        "colab": {
          "base_uri": "https://localhost:8080/"
        },
        "id": "TBg081IXwBNW",
        "outputId": "f81c489c-c9df-4798-ab06-32b340b31200"
      },
      "execution_count": 31,
      "outputs": [
        {
          "output_type": "stream",
          "name": "stdout",
          "text": [
            "tf.Tensor([1 2 3], shape=(3,), dtype=int64)\n"
          ]
        }
      ]
    },
    {
      "cell_type": "code",
      "source": [
        "eye_tensor=tf.eye(\n",
        "    num_rows=5,\n",
        "    num_columns=None,\n",
        "    batch_shape=[2,4],\n",
        "    dtype=tf.dtypes.float32,\n",
        "    name=None\n",
        ")\n",
        "print(eye_tensor)"
      ],
      "metadata": {
        "colab": {
          "base_uri": "https://localhost:8080/"
        },
        "id": "iHf6i9KLwBWg",
        "outputId": "3b7e1a60-0218-4275-e50c-9c261abb7221"
      },
      "execution_count": 42,
      "outputs": [
        {
          "output_type": "stream",
          "name": "stdout",
          "text": [
            "tf.Tensor(\n",
            "[[[[1. 0. 0. 0. 0.]\n",
            "   [0. 1. 0. 0. 0.]\n",
            "   [0. 0. 1. 0. 0.]\n",
            "   [0. 0. 0. 1. 0.]\n",
            "   [0. 0. 0. 0. 1.]]\n",
            "\n",
            "  [[1. 0. 0. 0. 0.]\n",
            "   [0. 1. 0. 0. 0.]\n",
            "   [0. 0. 1. 0. 0.]\n",
            "   [0. 0. 0. 1. 0.]\n",
            "   [0. 0. 0. 0. 1.]]\n",
            "\n",
            "  [[1. 0. 0. 0. 0.]\n",
            "   [0. 1. 0. 0. 0.]\n",
            "   [0. 0. 1. 0. 0.]\n",
            "   [0. 0. 0. 1. 0.]\n",
            "   [0. 0. 0. 0. 1.]]\n",
            "\n",
            "  [[1. 0. 0. 0. 0.]\n",
            "   [0. 1. 0. 0. 0.]\n",
            "   [0. 0. 1. 0. 0.]\n",
            "   [0. 0. 0. 1. 0.]\n",
            "   [0. 0. 0. 0. 1.]]]\n",
            "\n",
            "\n",
            " [[[1. 0. 0. 0. 0.]\n",
            "   [0. 1. 0. 0. 0.]\n",
            "   [0. 0. 1. 0. 0.]\n",
            "   [0. 0. 0. 1. 0.]\n",
            "   [0. 0. 0. 0. 1.]]\n",
            "\n",
            "  [[1. 0. 0. 0. 0.]\n",
            "   [0. 1. 0. 0. 0.]\n",
            "   [0. 0. 1. 0. 0.]\n",
            "   [0. 0. 0. 1. 0.]\n",
            "   [0. 0. 0. 0. 1.]]\n",
            "\n",
            "  [[1. 0. 0. 0. 0.]\n",
            "   [0. 1. 0. 0. 0.]\n",
            "   [0. 0. 1. 0. 0.]\n",
            "   [0. 0. 0. 1. 0.]\n",
            "   [0. 0. 0. 0. 1.]]\n",
            "\n",
            "  [[1. 0. 0. 0. 0.]\n",
            "   [0. 1. 0. 0. 0.]\n",
            "   [0. 0. 1. 0. 0.]\n",
            "   [0. 0. 0. 1. 0.]\n",
            "   [0. 0. 0. 0. 1.]]]], shape=(2, 4, 5, 5), dtype=float32)\n"
          ]
        }
      ]
    },
    {
      "cell_type": "markdown",
      "source": [
        "Fill In Tensor"
      ],
      "metadata": {
        "id": "T4Qnvfgh1XY1"
      }
    },
    {
      "cell_type": "code",
      "source": [
        "fill_tensor=tf.fill(\n",
        "    [3,4], 7, name=None\n",
        ")\n",
        "print(fill_tensor)"
      ],
      "metadata": {
        "colab": {
          "base_uri": "https://localhost:8080/"
        },
        "id": "wEBx3acY1V4o",
        "outputId": "414ff77a-201d-4cc0-819b-96d3b53b598a"
      },
      "execution_count": 43,
      "outputs": [
        {
          "output_type": "stream",
          "name": "stdout",
          "text": [
            "tf.Tensor(\n",
            "[[7 7 7 7]\n",
            " [7 7 7 7]\n",
            " [7 7 7 7]], shape=(3, 4), dtype=int32)\n"
          ]
        }
      ]
    },
    {
      "cell_type": "markdown",
      "source": [
        "ONES METHOD"
      ],
      "metadata": {
        "id": "RNRpW7RL2Dlp"
      }
    },
    {
      "cell_type": "code",
      "source": [
        "ones_tensor=tf.ones(\n",
        "    [7,4],\n",
        "    dtype=tf.dtypes.float32,\n",
        "    name=None\n",
        ")\n",
        "print(ones_tensor)"
      ],
      "metadata": {
        "colab": {
          "base_uri": "https://localhost:8080/"
        },
        "id": "gffrPotR1V_3",
        "outputId": "3a4af6e3-3273-43a9-c75e-ba8f98938806"
      },
      "execution_count": 45,
      "outputs": [
        {
          "output_type": "stream",
          "name": "stdout",
          "text": [
            "tf.Tensor(\n",
            "[[1. 1. 1. 1.]\n",
            " [1. 1. 1. 1.]\n",
            " [1. 1. 1. 1.]\n",
            " [1. 1. 1. 1.]\n",
            " [1. 1. 1. 1.]\n",
            " [1. 1. 1. 1.]\n",
            " [1. 1. 1. 1.]], shape=(7, 4), dtype=float32)\n"
          ]
        }
      ]
    },
    {
      "cell_type": "code",
      "source": [
        "input1=[\n",
        "    [2,3,4],\n",
        "    [3,4,7]\n",
        "        ]\n",
        "ones_like_tensor=tf.ones_like(\n",
        "    input1, dtype=None, name=None\n",
        ")\n",
        "print(ones_like_tensor)"
      ],
      "metadata": {
        "colab": {
          "base_uri": "https://localhost:8080/"
        },
        "id": "fhpSWKnw3c6N",
        "outputId": "182e7945-0f2f-437d-ddef-b9ea4e5281a3"
      },
      "execution_count": 46,
      "outputs": [
        {
          "output_type": "stream",
          "name": "stdout",
          "text": [
            "tf.Tensor(\n",
            "[[1 1 1]\n",
            " [1 1 1]], shape=(2, 3), dtype=int32)\n"
          ]
        }
      ]
    },
    {
      "cell_type": "code",
      "source": [
        "zeros_tensors=tf.zeros(\n",
        "    [3,4],\n",
        "    dtype=tf.dtypes.float32,\n",
        "    name=None\n",
        ")\n",
        "print(zeros_tensors)"
      ],
      "metadata": {
        "colab": {
          "base_uri": "https://localhost:8080/"
        },
        "id": "C4B7fTRk46vT",
        "outputId": "759d8ccc-fa16-4eb5-b0d4-8350178a0a9f"
      },
      "execution_count": 47,
      "outputs": [
        {
          "output_type": "stream",
          "name": "stdout",
          "text": [
            "tf.Tensor(\n",
            "[[0. 0. 0. 0.]\n",
            " [0. 0. 0. 0.]\n",
            " [0. 0. 0. 0.]], shape=(3, 4), dtype=float32)\n"
          ]
        }
      ]
    },
    {
      "cell_type": "code",
      "source": [
        "tensor_size= tf.constant([[1, 1, 1], [2, 2,2]],)\n",
        "print(tf.size(tensor_size,out_type=tf.bool))\n"
      ],
      "metadata": {
        "colab": {
          "base_uri": "https://localhost:8080/"
        },
        "id": "5V5nyYrh564F",
        "outputId": "6925283c-8ebb-479e-b9eb-7aa0dbfc77f4"
      },
      "execution_count": 55,
      "outputs": [
        {
          "output_type": "stream",
          "name": "stdout",
          "text": [
            "tf.Tensor(True, shape=(), dtype=bool)\n"
          ]
        }
      ]
    },
    {
      "cell_type": "code",
      "source": [
        "random_tensor=tf.random.uniform(\n",
        "    [5,],\n",
        "    minval=0,\n",
        "    maxval=None,\n",
        "    dtype=tf.dtypes.float32,\n",
        "    seed=None,\n",
        "    name=None\n",
        ")\n",
        "print(random_tensor)"
      ],
      "metadata": {
        "colab": {
          "base_uri": "https://localhost:8080/"
        },
        "id": "78YhPaQ7-d4k",
        "outputId": "8ca087bf-7abe-4e72-8381-f06b84e545e9"
      },
      "execution_count": 59,
      "outputs": [
        {
          "output_type": "stream",
          "name": "stdout",
          "text": [
            "tf.Tensor([0.9530711  0.2717656  0.84152687 0.24421525 0.24285007], shape=(5,), dtype=float32)\n"
          ]
        }
      ]
    },
    {
      "cell_type": "code",
      "source": [
        "tf.random.set_seed(5)\n",
        "tf.random.uniform(shape=[2,3], maxval=3, dtype=tf.int32, seed=10)\n",
        "\n",
        "print(tf.random.uniform(shape=[2,3], maxval=3, dtype=tf.int32, seed=10))\n",
        "\n",
        "\n"
      ],
      "metadata": {
        "colab": {
          "base_uri": "https://localhost:8080/"
        },
        "id": "bNrdA-_kBeaG",
        "outputId": "46075b68-8482-48c2-99f3-df524f7acb93"
      },
      "execution_count": 66,
      "outputs": [
        {
          "output_type": "stream",
          "name": "stdout",
          "text": [
            "tf.Tensor(\n",
            "[[0 1 1]\n",
            " [1 2 2]], shape=(2, 3), dtype=int32)\n"
          ]
        }
      ]
    },
    {
      "cell_type": "code",
      "source": [
        "tf.random.set_seed(123)\n",
        "\n",
        "@tf.function\n",
        "def f():\n",
        "  a = tf.random.uniform([1])\n",
        "  b = tf.random.uniform([1])\n",
        "  return a, b\n",
        "\n",
        "@tf.function\n",
        "def g():\n",
        "  a = tf.random.uniform([1])\n",
        "  b = tf.random.uniform([1])\n",
        "  return a, b\n",
        "\n",
        "print(f())  # prints '(A1, A2)'\n",
        "print(g())  # prints '(A1, A2)'"
      ],
      "metadata": {
        "colab": {
          "base_uri": "https://localhost:8080/"
        },
        "id": "ZpAKdWIHD0z1",
        "outputId": "d0e86941-7abb-4888-8119-7a5c7163d68f"
      },
      "execution_count": 71,
      "outputs": [
        {
          "output_type": "stream",
          "name": "stdout",
          "text": [
            "(<tf.Tensor: shape=(1,), dtype=float32, numpy=array([0.2772479], dtype=float32)>, <tf.Tensor: shape=(1,), dtype=float32, numpy=array([0.7429987], dtype=float32)>)\n",
            "(<tf.Tensor: shape=(1,), dtype=float32, numpy=array([0.2772479], dtype=float32)>, <tf.Tensor: shape=(1,), dtype=float32, numpy=array([0.7429987], dtype=float32)>)\n"
          ]
        }
      ]
    },
    {
      "cell_type": "markdown",
      "source": [
        "Tensorflow Indexing"
      ],
      "metadata": {
        "id": "OkpERs4NEVQ3"
      }
    },
    {
      "cell_type": "code",
      "source": [
        "tensor_indexed=tf.constant([2,3,4,5,66,7])\n",
        "print(tensor_indexed)\n",
        "print(tensor_indexed[0:4])\n",
        "print(tensor_indexed[1:4+1])"
      ],
      "metadata": {
        "colab": {
          "base_uri": "https://localhost:8080/"
        },
        "id": "fqGGDsQ2ETia",
        "outputId": "cb987dfb-3a75-48f1-cff3-1c39d12141a1"
      },
      "execution_count": 76,
      "outputs": [
        {
          "output_type": "stream",
          "name": "stdout",
          "text": [
            "tf.Tensor([ 2  3  4  5 66  7], shape=(6,), dtype=int32)\n",
            "tf.Tensor([2 3 4 5], shape=(4,), dtype=int32)\n",
            "tf.Tensor([ 3  4  5 66], shape=(4,), dtype=int32)\n"
          ]
        }
      ]
    },
    {
      "cell_type": "code",
      "source": [
        "tensor_three_d=tf.constant([\n",
        "    [[1,5,0],\n",
        "     [3,5,-1]],\n",
        "    [[6,8,0],\n",
        "     [3,8,9]],\n",
        "    [[6,5,4],[0,3,7]]\n",
        "\n",
        "])\n",
        "print(tensor_three_d[:2,:])"
      ],
      "metadata": {
        "colab": {
          "base_uri": "https://localhost:8080/"
        },
        "id": "8g51Ncd3H4q1",
        "outputId": "0c4c34ea-aee8-49f5-ff4e-520ae7147040"
      },
      "execution_count": 79,
      "outputs": [
        {
          "output_type": "stream",
          "name": "stdout",
          "text": [
            "tf.Tensor(\n",
            "[[[ 1  5  0]\n",
            "  [ 3  5 -1]]\n",
            "\n",
            " [[ 6  8  0]\n",
            "  [ 3  8  9]]], shape=(2, 2, 3), dtype=int32)\n"
          ]
        }
      ]
    },
    {
      "cell_type": "code",
      "source": [
        "#Reduce Sum\n",
        "tensor_three_d=tf.constant([\n",
        "    [[1,5,0],\n",
        "     [3,5,-1]],\n",
        "    [[6,8,0],\n",
        "     [3,8,9]],\n",
        "    [[6,5,4],[0,3,7]]\n",
        "\n",
        "])\n",
        "print(tf.math.reduce_sum(\n",
        "    tensor_three_d, axis=None, keepdims=False, name=None\n",
        "))"
      ],
      "metadata": {
        "colab": {
          "base_uri": "https://localhost:8080/"
        },
        "id": "5_vxyzWaXoBP",
        "outputId": "6cde6075-70db-457f-ff77-02329119d2f7"
      },
      "execution_count": 81,
      "outputs": [
        {
          "output_type": "stream",
          "name": "stdout",
          "text": [
            "tf.Tensor(72, shape=(), dtype=int32)\n"
          ]
        }
      ]
    },
    {
      "cell_type": "code",
      "source": [
        "tensor_string =tf.constant([\"Hello\",\"I am\",\"a string\"])\n",
        "print(tensor_string)"
      ],
      "metadata": {
        "colab": {
          "base_uri": "https://localhost:8080/"
        },
        "id": "nk-63KoCH47c",
        "outputId": "ff550e15-2682-4448-8297-4e70926d430a"
      },
      "execution_count": 82,
      "outputs": [
        {
          "output_type": "stream",
          "name": "stdout",
          "text": [
            "tf.Tensor([b'Hello' b'I am' b'a string'], shape=(3,), dtype=string)\n"
          ]
        }
      ]
    },
    {
      "cell_type": "code",
      "source": [
        "tf.strings.join(tensor_string,separator=\" \")"
      ],
      "metadata": {
        "colab": {
          "base_uri": "https://localhost:8080/"
        },
        "id": "gX87o7zyH5MT",
        "outputId": "773e847f-554e-41c1-f903-b5cc719d1547"
      },
      "execution_count": 83,
      "outputs": [
        {
          "output_type": "execute_result",
          "data": {
            "text/plain": [
              "<tf.Tensor: shape=(), dtype=string, numpy=b'Hello I am a string'>"
            ]
          },
          "metadata": {},
          "execution_count": 83
        }
      ]
    },
    {
      "cell_type": "code",
      "source": [],
      "metadata": {
        "id": "XA3woLOsH5fE"
      },
      "execution_count": null,
      "outputs": []
    }
  ]
}